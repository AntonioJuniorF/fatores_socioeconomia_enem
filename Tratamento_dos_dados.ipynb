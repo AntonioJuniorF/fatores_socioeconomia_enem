{
  "nbformat": 4,
  "nbformat_minor": 0,
  "metadata": {
    "colab": {
      "name": "Tratamento dos dados.ipynb",
      "provenance": [],
      "collapsed_sections": []
    },
    "kernelspec": {
      "name": "python3",
      "display_name": "Python 3"
    },
    "language_info": {
      "name": "python"
    }
  },
  "cells": [
    {
      "cell_type": "markdown",
      "source": [
        "# Bibliotecas"
      ],
      "metadata": {
        "id": "zODz0hssfhzY"
      }
    },
    {
      "cell_type": "code",
      "source": [
        "\n",
        "import numpy as np\n",
        "import pandas as pd \n",
        "import seaborn as sns\n",
        "import matplotlib.pyplot as plt\n",
        "%matplotlib inline\n",
        "from google.colab import drive\n",
        "drive.mount('/content/drive')"
      ],
      "metadata": {
        "colab": {
          "base_uri": "https://localhost:8080/"
        },
        "id": "LhqALqrcfhXC",
        "outputId": "e9791fc4-b1cc-418e-b5f5-2d40de98ed9e"
      },
      "execution_count": null,
      "outputs": [
        {
          "output_type": "stream",
          "name": "stdout",
          "text": [
            "Drive already mounted at /content/drive; to attempt to forcibly remount, call drive.mount(\"/content/drive\", force_remount=True).\n"
          ]
        }
      ]
    },
    {
      "cell_type": "markdown",
      "source": [
        "#  <a name=\"indice\">  Índice </a>\n",
        "\n",
        "* [1.0 Objetivo.](#secao_1.0)\n",
        "* [2.0 Primeiro corte dos dados.](#secao_2.0)\n",
        "  * [2.1 Importando os dados.](#secao_2.1)\n",
        "\n",
        "* [3.0 Exclusão de dados.](#secao_3.0)\n",
        " \n",
        "  * [3.1 Primeira exclusão de dados.](#secao_3.1)\n",
        "  * [3.2 Segunda exclusão de dados.](#secao_3.2)\n",
        "  * [3.3 Terceira exclusão de dados.](#secao_3.3)\n",
        "  * [3.4  Quanto exclusão de dados.](#secao_3.4)   \n",
        "  * [3.5 Quinta exclusão de dados.](#secao_3.5)\n",
        "\n",
        "* [4.0  Remapeamento das classes.](#secao_4.0)\n",
        "  * [4.1 Cor/raça.](#secao_4.1)\n",
        "  * [4.2 Renda familiar.](#secao_4.2) \n",
        "  * [4.3 Escolariade dos país.](#secao_4.3) \n",
        "  * [4.4 Computador e internet.](#secao_4.4) \n",
        "  * [4.5 Nota média.](#secao_4.5) \n",
        "\n",
        "* [5.0  Salvando os novos dados.](#secao_5.0)\n",
        "\n",
        "\n",
        "\n",
        "\n"
      ],
      "metadata": {
        "id": "1C2syD6KffW5"
      }
    },
    {
      "cell_type": "markdown",
      "metadata": {
        "id": "vtGeKgCcI1IS"
      },
      "source": [
        "# <a name=\"secao_1.0\"> 1. Objetivo </a>."
      ]
    },
    {
      "cell_type": "markdown",
      "source": [
        "* Essa parte será responsável em formatar o conjunto de dados dos metadados do enem. No caso será excluído todas as informações que serão julgadas irrelevantes e será feito um tratamento inicial do conjunto de dados.\n"
      ],
      "metadata": {
        "id": "1SixYx5Of37Y"
      }
    },
    {
      "cell_type": "markdown",
      "metadata": {
        "id": "DUFFjIp9JGIh"
      },
      "source": [
        "# <a name=\"secao_2.0\"> 2. Primeiro corte de dados </a>.\n",
        "\n",
        "* As variáveis dos metadados do Enem existem informações que estão sendo representada mais de uma vez.\n",
        " \n",
        " * No caso, são aquelas que identificam algum tipo de lugar, como a cidade que a pessoa fez a prova ou onde ela nasceu por exemplo.\n",
        " * Essas informações geralmente estão sendo representadas através da Sigla do município, o seu nome ou um código que o representa. \n",
        "\n",
        " \n",
        "* Existem algumas variáveis que indicam o código da provas, no caso se ela é roxa, azul etc. Estes dados também serão excluídos.\n",
        " \n",
        "* Em relação ao questionário de perguntas serão descartadas aqueles que não geraria nenhum impacto nas analises ou que possam ser representadas de uma forma por outras.\n",
        " \n",
        "* Os dados presentes nas perguntas 'Q007', 'Q008', 'Q009', 'Q010', 'Q011',   'Q012', 'Q013', 'Q014', 'Q015', 'Q016', 'Q017', 'Q018', 'Q019', 'Q020', 'Q021', 'Q022','Q023' e 'Q024' são fatores que esta correlacionada diretamente com a sua renda que esta representada pela variável Q006. Por esse motivo os dados dessas perguntas serão excluídas.\n",
        " * O uso da internet não será descartado porque ela pode ser utilizada como método de auxilio ao estudo.\n",
        " * 'Q03' e 'Q04' são opções que indicam a profissão das pessoas, elas estão relacionadas com trabalhos dos pais das pessoas, estas informações foram julgadas como redundante para o trabalho.\n",
        " \n",
        "* Os dados Q024 e Q025 são ferramentas utilizadas que podem ser utilizadas para auxiliar no estudo do aluno, por isso elas não serão descartadas.\n",
        " \n",
        " \n",
        "* Outras variáveis também serão descartas\n",
        " * NU_ANO: Esta variável foi descartada porque ela indica uma unica informação.\n",
        " *NO_MUNICIPIO_NASCIMENTO: ela indica onde a pessoa nasceu, tão dado não implica em nenhum fator social devido que a pessoa possa ter mudado.\n",
        " *TP_LINGUA: indica a lingua da prova estrangeira que a pessoa fez.\n",
        " *TP_NACIONALIDADE: Indica se a pessoa é de outro país que esta fazendo a prova.\n",
        " *TP_SIT_FUNC_ESC: esse dado indica a sintuação da escola.\n",
        " \n",
        "* Os dados dos pedidos de recursos especializados e específicos para realização das provas, pedidos de atedimeto especíco e especializado também seram exluidos, porque foi decidido não aborda esses temas no trabalho.\n",
        "\n",
        "\n",
        " \n",
        "\n",
        "\n",
        "\n"
      ]
    },
    {
      "cell_type": "code",
      "metadata": {
        "id": "x-izYtpTI20H"
      },
      "source": [
        "# Colunas que serão cortadas \n",
        "Columns = ['TP_SEXO'                    ,\n",
        "           'TP_COR_RACA'           ,'TP_ST_CONCLUSAO'            ,'TP_ANO_CONCLUIU',\n",
        "           'IN_TREINEIRO'          ,'TP_DEPENDENCIA_ADM_ESC'     ,   \n",
        "           'CO_ESCOLA'             ,\n",
        "           'TP_PRESENCA_CN'        ,'TP_PRESENCA_CH'             ,'TP_PRESENCA_LC',\n",
        "           'TP_PRESENCA_MT'        ,'NU_NOTA_CN','NU_NOTA_CH'    ,'NU_NOTA_LC',\n",
        "           'NU_NOTA_MT'            ,'TP_STATUS_REDACAO'          ,'NU_NOTA_REDACAO',\n",
        "           'Q001'                  ,'Q002'                        ,'Q005',\n",
        "           'Q006'                  ,'Q025'                        ,'NO_MUNICIPIO_ESC',\n",
        "           'CO_UF_ESC'             ,'SG_UF_ESC'                   , 'Q024']"
      ],
      "execution_count": null,
      "outputs": []
    },
    {
      "cell_type": "markdown",
      "metadata": {
        "id": "EUVhddHkJVXF"
      },
      "source": [
        "### <a name=\"secao_2.1\"> 2.1 Importando os dados </a>.\n",
        "\n",
        "* O dados foram importandos sem as colunas descritas"
      ]
    },
    {
      "cell_type": "code",
      "metadata": {
        "id": "JenYPYd7JJfF"
      },
      "source": [
        "df1 = pd.read_csv('/content/drive/My Drive/desafio semantix/MICRODADOS_ENEM_2019.csv',sep=';' ,encoding='iso-8859-1',usecols=Columns)"
      ],
      "execution_count": null,
      "outputs": []
    },
    {
      "cell_type": "code",
      "metadata": {
        "colab": {
          "base_uri": "https://localhost:8080/"
        },
        "id": "ap0SLHjxJaCB",
        "outputId": "d41eb98b-6d0c-4e04-ed52-afaa28c0a29f"
      },
      "source": [
        "df1.shape # tamanho do dataset"
      ],
      "execution_count": null,
      "outputs": [
        {
          "output_type": "execute_result",
          "data": {
            "text/plain": [
              "(5095270, 26)"
            ]
          },
          "metadata": {},
          "execution_count": 4
        }
      ]
    },
    {
      "cell_type": "code",
      "metadata": {
        "colab": {
          "base_uri": "https://localhost:8080/",
          "height": 226
        },
        "id": "yUStFO76JkvL",
        "outputId": "9bead27d-a2ca-42f0-ded7-6ce042e58928"
      },
      "source": [
        "df1.head(5)"
      ],
      "execution_count": null,
      "outputs": [
        {
          "output_type": "execute_result",
          "data": {
            "text/html": [
              "<div>\n",
              "<style scoped>\n",
              "    .dataframe tbody tr th:only-of-type {\n",
              "        vertical-align: middle;\n",
              "    }\n",
              "\n",
              "    .dataframe tbody tr th {\n",
              "        vertical-align: top;\n",
              "    }\n",
              "\n",
              "    .dataframe thead th {\n",
              "        text-align: right;\n",
              "    }\n",
              "</style>\n",
              "<table border=\"1\" class=\"dataframe\">\n",
              "  <thead>\n",
              "    <tr style=\"text-align: right;\">\n",
              "      <th></th>\n",
              "      <th>TP_SEXO</th>\n",
              "      <th>TP_COR_RACA</th>\n",
              "      <th>TP_ST_CONCLUSAO</th>\n",
              "      <th>TP_ANO_CONCLUIU</th>\n",
              "      <th>IN_TREINEIRO</th>\n",
              "      <th>CO_ESCOLA</th>\n",
              "      <th>NO_MUNICIPIO_ESC</th>\n",
              "      <th>CO_UF_ESC</th>\n",
              "      <th>SG_UF_ESC</th>\n",
              "      <th>TP_DEPENDENCIA_ADM_ESC</th>\n",
              "      <th>TP_PRESENCA_CN</th>\n",
              "      <th>TP_PRESENCA_CH</th>\n",
              "      <th>TP_PRESENCA_LC</th>\n",
              "      <th>TP_PRESENCA_MT</th>\n",
              "      <th>NU_NOTA_CN</th>\n",
              "      <th>NU_NOTA_CH</th>\n",
              "      <th>NU_NOTA_LC</th>\n",
              "      <th>NU_NOTA_MT</th>\n",
              "      <th>TP_STATUS_REDACAO</th>\n",
              "      <th>NU_NOTA_REDACAO</th>\n",
              "      <th>Q001</th>\n",
              "      <th>Q002</th>\n",
              "      <th>Q005</th>\n",
              "      <th>Q006</th>\n",
              "      <th>Q024</th>\n",
              "      <th>Q025</th>\n",
              "    </tr>\n",
              "  </thead>\n",
              "  <tbody>\n",
              "    <tr>\n",
              "      <th>0</th>\n",
              "      <td>M</td>\n",
              "      <td>3</td>\n",
              "      <td>1</td>\n",
              "      <td>11</td>\n",
              "      <td>0</td>\n",
              "      <td>NaN</td>\n",
              "      <td>NaN</td>\n",
              "      <td>NaN</td>\n",
              "      <td>NaN</td>\n",
              "      <td>NaN</td>\n",
              "      <td>0</td>\n",
              "      <td>0</td>\n",
              "      <td>0</td>\n",
              "      <td>0</td>\n",
              "      <td>NaN</td>\n",
              "      <td>NaN</td>\n",
              "      <td>NaN</td>\n",
              "      <td>NaN</td>\n",
              "      <td>NaN</td>\n",
              "      <td>NaN</td>\n",
              "      <td>B</td>\n",
              "      <td>B</td>\n",
              "      <td>2</td>\n",
              "      <td>A</td>\n",
              "      <td>C</td>\n",
              "      <td>B</td>\n",
              "    </tr>\n",
              "    <tr>\n",
              "      <th>1</th>\n",
              "      <td>M</td>\n",
              "      <td>1</td>\n",
              "      <td>1</td>\n",
              "      <td>5</td>\n",
              "      <td>0</td>\n",
              "      <td>NaN</td>\n",
              "      <td>NaN</td>\n",
              "      <td>NaN</td>\n",
              "      <td>NaN</td>\n",
              "      <td>NaN</td>\n",
              "      <td>0</td>\n",
              "      <td>0</td>\n",
              "      <td>0</td>\n",
              "      <td>0</td>\n",
              "      <td>NaN</td>\n",
              "      <td>NaN</td>\n",
              "      <td>NaN</td>\n",
              "      <td>NaN</td>\n",
              "      <td>NaN</td>\n",
              "      <td>NaN</td>\n",
              "      <td>C</td>\n",
              "      <td>E</td>\n",
              "      <td>4</td>\n",
              "      <td>C</td>\n",
              "      <td>A</td>\n",
              "      <td>B</td>\n",
              "    </tr>\n",
              "    <tr>\n",
              "      <th>2</th>\n",
              "      <td>F</td>\n",
              "      <td>3</td>\n",
              "      <td>1</td>\n",
              "      <td>13</td>\n",
              "      <td>0</td>\n",
              "      <td>NaN</td>\n",
              "      <td>NaN</td>\n",
              "      <td>NaN</td>\n",
              "      <td>NaN</td>\n",
              "      <td>NaN</td>\n",
              "      <td>0</td>\n",
              "      <td>0</td>\n",
              "      <td>0</td>\n",
              "      <td>0</td>\n",
              "      <td>NaN</td>\n",
              "      <td>NaN</td>\n",
              "      <td>NaN</td>\n",
              "      <td>NaN</td>\n",
              "      <td>NaN</td>\n",
              "      <td>NaN</td>\n",
              "      <td>E</td>\n",
              "      <td>E</td>\n",
              "      <td>2</td>\n",
              "      <td>B</td>\n",
              "      <td>A</td>\n",
              "      <td>B</td>\n",
              "    </tr>\n",
              "    <tr>\n",
              "      <th>3</th>\n",
              "      <td>F</td>\n",
              "      <td>1</td>\n",
              "      <td>1</td>\n",
              "      <td>4</td>\n",
              "      <td>0</td>\n",
              "      <td>NaN</td>\n",
              "      <td>NaN</td>\n",
              "      <td>NaN</td>\n",
              "      <td>NaN</td>\n",
              "      <td>NaN</td>\n",
              "      <td>1</td>\n",
              "      <td>1</td>\n",
              "      <td>1</td>\n",
              "      <td>1</td>\n",
              "      <td>483.8</td>\n",
              "      <td>503.6</td>\n",
              "      <td>537.3</td>\n",
              "      <td>392.0</td>\n",
              "      <td>1.0</td>\n",
              "      <td>460.0</td>\n",
              "      <td>C</td>\n",
              "      <td>E</td>\n",
              "      <td>4</td>\n",
              "      <td>E</td>\n",
              "      <td>B</td>\n",
              "      <td>B</td>\n",
              "    </tr>\n",
              "    <tr>\n",
              "      <th>4</th>\n",
              "      <td>F</td>\n",
              "      <td>1</td>\n",
              "      <td>1</td>\n",
              "      <td>4</td>\n",
              "      <td>0</td>\n",
              "      <td>NaN</td>\n",
              "      <td>NaN</td>\n",
              "      <td>NaN</td>\n",
              "      <td>NaN</td>\n",
              "      <td>NaN</td>\n",
              "      <td>1</td>\n",
              "      <td>1</td>\n",
              "      <td>1</td>\n",
              "      <td>1</td>\n",
              "      <td>513.6</td>\n",
              "      <td>575.5</td>\n",
              "      <td>570.7</td>\n",
              "      <td>677.0</td>\n",
              "      <td>1.0</td>\n",
              "      <td>860.0</td>\n",
              "      <td>E</td>\n",
              "      <td>E</td>\n",
              "      <td>3</td>\n",
              "      <td>G</td>\n",
              "      <td>B</td>\n",
              "      <td>B</td>\n",
              "    </tr>\n",
              "  </tbody>\n",
              "</table>\n",
              "</div>"
            ],
            "text/plain": [
              "  TP_SEXO  TP_COR_RACA  TP_ST_CONCLUSAO  TP_ANO_CONCLUIU  ...  Q005  Q006 Q024  Q025\n",
              "0       M            3                1               11  ...     2     A    C     B\n",
              "1       M            1                1                5  ...     4     C    A     B\n",
              "2       F            3                1               13  ...     2     B    A     B\n",
              "3       F            1                1                4  ...     4     E    B     B\n",
              "4       F            1                1                4  ...     3     G    B     B\n",
              "\n",
              "[5 rows x 26 columns]"
            ]
          },
          "metadata": {},
          "execution_count": 5
        }
      ]
    },
    {
      "cell_type": "markdown",
      "source": [
        "# <a name=\"secao_3.0\"> 3. Exclusão de dados </a>."
      ],
      "metadata": {
        "id": "9yuqAKWqiR_W"
      }
    },
    {
      "cell_type": "markdown",
      "metadata": {
        "id": "fknEKJPVJpLN"
      },
      "source": [
        "### <a name=\"secao_3.1\"> 3.1 Primeira exclusão de dados </a>.\n",
        "\n",
        "* Objetivo deste trabalho é avaliar como fatores sociais e econômicos influenciam nas notas dos candidatos do enem. Por esse motivo será excluído todos os candidatos que faltaram a alguma prova."
      ]
    },
    {
      "cell_type": "code",
      "source": [
        "print('Porcetagem de escritos que foram fazer todas as prova:', np.sum((df1['TP_PRESENCA_CN'] == 1) & (df1['TP_PRESENCA_CH'] == 1)  & \n",
        "    (df1['TP_PRESENCA_LC'] == 1) & (df1['TP_PRESENCA_MT'] == 1) & (df1['TP_STATUS_REDACAO'] == 1))/df1.shape[0])"
      ],
      "metadata": {
        "colab": {
          "base_uri": "https://localhost:8080/"
        },
        "id": "bXwjizXjlVuQ",
        "outputId": "d08cc99d-3dc1-454f-bd2e-2964518a7a52"
      },
      "execution_count": null,
      "outputs": [
        {
          "output_type": "stream",
          "name": "stdout",
          "text": [
            "Quantidade de pessoas que foram fazer todas as prova: 0.7057755526203714\n"
          ]
        }
      ]
    },
    {
      "cell_type": "code",
      "metadata": {
        "id": "c9JH7A6tJkwO"
      },
      "source": [
        "df1 = df1[(df1['TP_PRESENCA_CN'] == 1) & (df1['TP_PRESENCA_CH'] == 1)  & \n",
        "    (df1['TP_PRESENCA_LC'] == 1) & (df1['TP_PRESENCA_MT'] == 1) & (df1['TP_STATUS_REDACAO'] == 1)]"
      ],
      "execution_count": null,
      "outputs": []
    },
    {
      "cell_type": "code",
      "metadata": {
        "id": "E1qUGaxaJveP"
      },
      "source": [
        "df1.drop(columns=['TP_PRESENCA_CN','TP_PRESENCA_CH','TP_PRESENCA_LC','TP_PRESENCA_MT','TP_STATUS_REDACAO'],inplace = True)"
      ],
      "execution_count": null,
      "outputs": []
    },
    {
      "cell_type": "markdown",
      "metadata": {
        "id": "gCbjVyOdJ0P4"
      },
      "source": [
        "* Também será eliminado as linhas que as notas das provas tiverem algum dado faltante. \n"
      ]
    },
    {
      "cell_type": "code",
      "metadata": {
        "id": "GgZwcGGpJxay"
      },
      "source": [
        "col = ['NU_NOTA_CN','NU_NOTA_CH','NU_NOTA_LC','NU_NOTA_MT','NU_NOTA_REDACAO']"
      ],
      "execution_count": null,
      "outputs": []
    },
    {
      "cell_type": "code",
      "metadata": {
        "id": "hQIyJvYRJ2wF",
        "colab": {
          "base_uri": "https://localhost:8080/"
        },
        "outputId": "358afcda-60a0-41de-8f4b-d4409ee8b6f7"
      },
      "source": [
        "df1[col].isna().sum(axis = 0)"
      ],
      "execution_count": null,
      "outputs": [
        {
          "output_type": "execute_result",
          "data": {
            "text/plain": [
              "NU_NOTA_CN         0\n",
              "NU_NOTA_CH         0\n",
              "NU_NOTA_LC         0\n",
              "NU_NOTA_MT         0\n",
              "NU_NOTA_REDACAO    0\n",
              "dtype: int64"
            ]
          },
          "metadata": {},
          "execution_count": 12
        }
      ]
    },
    {
      "cell_type": "markdown",
      "metadata": {
        "id": "td7EHAjsKdsD"
      },
      "source": [
        "### <a name=\"secao_3.2\"> 3.2 Segunda exclusão de dados </a>.\n",
        "\n",
        "\n",
        "* Uma variável de grande importância é a TP_DEPENDENCIA_ADM_ESC já que ela indica que ela indica se a escola é estadual ou particular por exemplo. Isso é um indício da estrutura do colegio que pessoa estudou já que colegios particulares tendem a investir mais na suas infraesturas.\n",
        " \n",
        "* Por esse motivo, se os dados faltantes desta informação não tiverem uma maneira de recuperar eles serão descartados.\n"
      ]
    },
    {
      "cell_type": "code",
      "metadata": {
        "colab": {
          "base_uri": "https://localhost:8080/"
        },
        "id": "Dx8yf0rZKSj3",
        "outputId": "d97331ad-965a-44a2-f68a-55d4de7f9f16"
      },
      "source": [
        "print('Numero de dados faltantes em  TP_DEPENDENCIA_ADM_ESC :',df1['TP_DEPENDENCIA_ADM_ESC'].isna().sum(axis = 0))"
      ],
      "execution_count": null,
      "outputs": [
        {
          "output_type": "stream",
          "name": "stdout",
          "text": [
            "Numero de dados faltantes em  TP_DEPENDENCIA_ADM_ESC : 2674795\n"
          ]
        }
      ]
    },
    {
      "cell_type": "markdown",
      "metadata": {
        "id": "lERws_H1K20_"
      },
      "source": [
        "* Uma meneira de recuperar essa informação é atravez do nome da escola e onde ela reside."
      ]
    },
    {
      "cell_type": "code",
      "metadata": {
        "id": "r_g5wNoYKSla"
      },
      "source": [
        "col = ['NO_MUNICIPIO_ESC','TP_DEPENDENCIA_ADM_ESC']"
      ],
      "execution_count": null,
      "outputs": []
    },
    {
      "cell_type": "code",
      "metadata": {
        "colab": {
          "base_uri": "https://localhost:8080/"
        },
        "id": "V-yWNeFtK7L1",
        "outputId": "9ff3ebd7-2019-4213-94cb-dd1a2c43d34f"
      },
      "source": [
        "print('Número de dados faltantes nas mesmas colunas CO_ESCOLA NO_MUNICIPIO_ESC','TP_DEPENDENCIA_ADM_ESC :',np.sum(df1[col].isna().sum(axis = 1) == 3))"
      ],
      "execution_count": null,
      "outputs": [
        {
          "output_type": "stream",
          "name": "stdout",
          "text": [
            "Número de dados faltantes nas mesmas colunas CO_ESCOLA NO_MUNICIPIO_ESC TP_DEPENDENCIA_ADM_ESC : 0\n"
          ]
        }
      ]
    },
    {
      "cell_type": "markdown",
      "metadata": {
        "id": "dPbRJiYKJ7_V"
      },
      "source": [
        "* Pelos resultados obtidos não tem como recuperar os dados faltantes de TP_DEPENDENCIA_ADM_ESC, por esse motivo todos eles serão excluídos.\n",
        " \n",
        "\n"
      ]
    },
    {
      "cell_type": "code",
      "metadata": {
        "id": "9XgPUaHkJ6sj"
      },
      "source": [
        "df1 = df1[df1['TP_DEPENDENCIA_ADM_ESC'].isna() == 0]"
      ],
      "execution_count": null,
      "outputs": []
    },
    {
      "cell_type": "code",
      "metadata": {
        "id": "7lKLRZ3XLOU6"
      },
      "source": [
        "#df1.drop(columns=['CO_ESCOLA'],inplace = True)"
      ],
      "execution_count": null,
      "outputs": []
    },
    {
      "cell_type": "markdown",
      "metadata": {
        "id": "KvnCwkf5LVRI"
      },
      "source": [
        "### <a name=\"secao_3.3\"> 3.3 Terceira exclusão de dados </a>.\n",
        "* Será excluído agora as variáveis que só tem uma única  classe.\n",
        " \n",
        "\n"
      ]
    },
    {
      "cell_type": "code",
      "metadata": {
        "colab": {
          "base_uri": "https://localhost:8080/"
        },
        "id": "iJrEiSGELQn-",
        "outputId": "ce13606e-78ee-44d5-a6eb-c28a6bf9dc5a"
      },
      "source": [
        "for i in range(df1.shape[1]):\n",
        "  print(df1.columns[i],len(np.unique(df1[df1.columns[i]])))"
      ],
      "execution_count": null,
      "outputs": [
        {
          "output_type": "stream",
          "name": "stdout",
          "text": [
            "TP_SEXO 2\n",
            "TP_COR_RACA 6\n",
            "TP_ST_CONCLUSAO 1\n",
            "TP_ANO_CONCLUIU 1\n",
            "IN_TREINEIRO 1\n",
            "CO_ESCOLA 29487\n",
            "NO_MUNICIPIO_ESC 5271\n",
            "CO_UF_ESC 27\n",
            "SG_UF_ESC 27\n",
            "TP_DEPENDENCIA_ADM_ESC 4\n",
            "NU_NOTA_CN 4405\n",
            "NU_NOTA_CH 4478\n",
            "NU_NOTA_LC 3914\n",
            "NU_NOTA_MT 5831\n",
            "NU_NOTA_REDACAO 49\n",
            "Q001 8\n",
            "Q002 8\n",
            "Q005 20\n",
            "Q006 17\n",
            "Q024 5\n",
            "Q025 2\n"
          ]
        }
      ]
    },
    {
      "cell_type": "code",
      "metadata": {
        "id": "4tKbeBNnLZI_"
      },
      "source": [
        "# deletar colunas com uma unica classe\n",
        "col = ['TP_ST_CONCLUSAO','TP_ANO_CONCLUIU','IN_TREINEIRO']\n",
        "df1.drop(columns=col,inplace = True)"
      ],
      "execution_count": null,
      "outputs": []
    },
    {
      "cell_type": "markdown",
      "metadata": {
        "id": "Ux0GQwopLpOw"
      },
      "source": [
        "### <a name=\"secao_3.4\"> 3.4 Quarta exclusão de dados </a>.\n",
        "\n",
        "\n",
        "\n",
        "* Dados faltantes"
      ]
    },
    {
      "cell_type": "code",
      "metadata": {
        "colab": {
          "base_uri": "https://localhost:8080/"
        },
        "id": "vEuZMhEXLdU_",
        "outputId": "d30a4496-db9c-4f3d-e633-bfbd1e906810"
      },
      "source": [
        "print('Colunas com dados faltantes :',df1.columns[df1.isna().sum(axis = 0)>0])"
      ],
      "execution_count": null,
      "outputs": [
        {
          "output_type": "stream",
          "name": "stdout",
          "text": [
            "Colunas com dados faltantes : Index([], dtype='object')\n"
          ]
        }
      ]
    },
    {
      "cell_type": "markdown",
      "metadata": {
        "id": "QOMow8qYL49Z"
      },
      "source": [
        "### <a name=\"secao_3.5\"> 3.5 Quinta exclusão de dados </a>.\n",
        "\n",
        "* Como objetivo é comparar o impacto de fatores sociais e econômicos na nota do enem, os alunos que não quiserem divulgar essas informações serão excluídas do conjunto de dados."
      ]
    },
    {
      "cell_type": "code",
      "metadata": {
        "id": "httcfbWJLupi"
      },
      "source": [
        "# 'Q001'\n",
        "# H representa o aluno que não sabe a escolaridade do pai\n",
        "df1 = df1[df1['Q001'] != 'H']\n",
        "# 'Q002'\n",
        "# H representa o aluno que não sabe a escolaridade do mae\n",
        "df1 = df1[df1['Q002'] != 'H']\n",
        "# 'Q006'\n",
        "# O valor é de pessoas que não optaram por coloca sua renda\n",
        "df1 = df1[df1['Q006']!=0]\n",
        "# TP_COR_RACA\n",
        "# Reça não declarada\n",
        "df1 = df1[df1['TP_COR_RACA'] != 0]"
      ],
      "execution_count": null,
      "outputs": []
    },
    {
      "cell_type": "markdown",
      "metadata": {
        "id": "5pa5xj-5MQ3E"
      },
      "source": [
        "# <a name=\"secao_4.0\"> 4.0 Remapeamento das classes </a>.\n",
        "\n",
        "\n",
        "### <a name=\"secao_4.1\"> 4.1  Cor/raça\n",
        "\n",
        "* A junção das pessoas com cor/raça preta e parda é classificada pelo ibge como negra e estudos mostram que 75 % deles estão entre os mais pobres que moram na região de periferia. Para evidenciar este fator as pessoas com cor/raça preta e parda serão transformadas como negras.\n",
        "\n",
        "\n",
        "* Refêrancia: \n",
        "\n",
        "  * https://noticias.uol.com.br/cotidiano/ultimas-noticias/2019/11/13/percentual-de-negros-entre-10-mais-pobre-e-triplo-do-que-entre-mais-ricos.htm\n",
        "\n"
      ]
    },
    {
      "cell_type": "code",
      "metadata": {
        "colab": {
          "base_uri": "https://localhost:8080/"
        },
        "id": "8gYciJmJMH-Z",
        "outputId": "823bead7-7fe2-4c6d-cb4d-4102fc9849b2"
      },
      "source": [
        "# O número 10 será declarada como cor\\raça preta\n",
        "df1['TP_COR_RACA'][df1['TP_COR_RACA'] == 2] = 6\n",
        "df1['TP_COR_RACA'][df1['TP_COR_RACA'] == 3] = 6"
      ],
      "execution_count": null,
      "outputs": [
        {
          "output_type": "stream",
          "name": "stderr",
          "text": [
            "/usr/local/lib/python3.7/dist-packages/ipykernel_launcher.py:3: SettingWithCopyWarning: \n",
            "A value is trying to be set on a copy of a slice from a DataFrame\n",
            "\n",
            "See the caveats in the documentation: https://pandas.pydata.org/pandas-docs/stable/user_guide/indexing.html#returning-a-view-versus-a-copy\n",
            "  This is separate from the ipykernel package so we can avoid doing imports until\n"
          ]
        }
      ]
    },
    {
      "cell_type": "code",
      "metadata": {
        "id": "zVuIkzL8Qk4o"
      },
      "source": [
        "dados = np.unique(df1['TP_COR_RACA'])"
      ],
      "execution_count": null,
      "outputs": []
    },
    {
      "cell_type": "code",
      "metadata": {
        "colab": {
          "base_uri": "https://localhost:8080/"
        },
        "id": "NJ2u4jxZQmdF",
        "outputId": "f8f8f721-2b29-4320-9aa0-d17a7d8c9c99"
      },
      "source": [
        "for i in range(len(dados)):\n",
        "  print('Classe ',dados[i],':',np.sum(df1['TP_COR_RACA'] == dados[i])/df1.shape[0])"
      ],
      "execution_count": null,
      "outputs": [
        {
          "output_type": "stream",
          "name": "stdout",
          "text": [
            "Classe  1 : 0.40934209308781344\n",
            "Classe  4 : 0.022498997563307734\n",
            "Classe  5 : 0.005765398969803523\n",
            "Classe  6 : 0.5623935103790753\n"
          ]
        }
      ]
    },
    {
      "cell_type": "markdown",
      "metadata": {
        "id": "NXRAxiESQoeJ"
      },
      "source": [
        "* As classes 6 e 1 apresentaram a maior porcentagem dos dados sendo que a diferença entre essas duas para as demais são alarmantes. Por esse motivo elas serão reagrupadas nas demais classes.\n",
        " \n",
        "* A classe Indígena será agrupada na classe de cor/raça Preta devido que existe estudo do ibge que trata elas como iguais.\n",
        " \n",
        "* A classe amarela se trata da asiática e por aparência elas se assemelham mais a cor/raça branca eles serão agrupados nessa classe.\n"
      ]
    },
    {
      "cell_type": "code",
      "metadata": {
        "id": "EM6hK9xFQs1-"
      },
      "source": [
        "df1['TP_COR_RACA'][df1['TP_COR_RACA'] == 5] = 6\n",
        "df1['TP_COR_RACA'][df1['TP_COR_RACA'] == 4] = 6\n",
        "\n",
        "df1['TP_COR_RACA'][df1['TP_COR_RACA'] == 6] = 0\n",
        "df1['TP_COR_RACA'][df1['TP_COR_RACA'] == 6] = 0"
      ],
      "execution_count": null,
      "outputs": []
    },
    {
      "cell_type": "markdown",
      "metadata": {
        "id": "6L1V59l8aUeG"
      },
      "source": [
        "* O remapeamento :  \n",
        "  * 0 -> Cor e raça preta\n",
        "  * 1 -> Cor e raça branca "
      ]
    },
    {
      "cell_type": "markdown",
      "metadata": {
        "id": "JrDMPSVlQzVQ"
      },
      "source": [
        "### <a name=\"secao_4.2\"> 4.2  Renda familiar\n",
        "\n",
        "\n",
        "\n"
      ]
    },
    {
      "cell_type": "markdown",
      "source": [
        "* Legenda dos metadados do enem:\n",
        "\n",
        "  * A - > Nenhuma renda.\n",
        "  \n",
        "  * B - > Até 998,00.\n",
        "\n",
        "  * C - > De 998,01 até 1.497,00.\n",
        "  * D - > De 1.497,01 até  1.996,00.\n",
        "  * E - > De 1.996,01 até  2.495,00.\n",
        "  * F - > De 2.495,01 até 2.994,00.\n",
        "  * G - > De 2.994,01 até 3.992,00.\n",
        "  * H - > De 3.992,01 até 4.990,00.\n",
        "  * I - > De 4.990,01 até 5.988,00.\n",
        "  * J - > De 5.988,01 até 6.986,00.\n",
        "  * K - > De 6.986,01 até 7.984,00.\n",
        "  * L - > De 7.984,01 até 8.982,00.\n",
        "  * M - > De 8.982,01 até 9.980,00.\n",
        "  * N - > De 9.980,01 até 11.976,00.\n",
        "  * O - > De 9.980,01 até 11.976,00.\n",
        "  * P - > De 14.970,01 até 19.960,00.\n",
        "  * Q - > Mais de 19.960,00. \n",
        "\n",
        "* Os valores da legenda serão substituídos pelo valor médio do seu intervalo."
      ],
      "metadata": {
        "id": "urAlMAw5qTQ-"
      }
    },
    {
      "cell_type": "code",
      "metadata": {
        "id": "uGWdg_BcQtOn"
      },
      "source": [
        "df1['Q006'] = df1['Q006'].map({'A': 0   ,'B':499  ,'C':1247  ,\n",
        "                               'D':1746 ,'E':2245 ,'F':2744  ,\n",
        "                               'G':3493 ,'H':4491 ,'I':5489  ,\n",
        "                               'J':6487 ,'K':7485 ,'L':8483  ,\n",
        "                               'M':9481 ,'N':10978,'O':13473 ,\n",
        "                               'P':17465,'Q':20000})"
      ],
      "execution_count": null,
      "outputs": []
    },
    {
      "cell_type": "markdown",
      "metadata": {
        "id": "Cw1JlKe3Q3mv"
      },
      "source": [
        "### <a name=\"secao_4.3\"> 4.3  Escolaridade dos pais\n",
        "\n",
        "\n",
        "\n"
      ]
    },
    {
      "cell_type": "markdown",
      "source": [
        "* Legenda dos metadados do enem:\n",
        "\n",
        "  * A - > Nunca estudou.\n",
        "  * B - > Não completou a 4ª série/5º ano do Ensino Fundamental.\n",
        "  * C - > Completou a 4ª série/5º ano, mas não completou a 8ª série/9º ano do Ensino Fundamental.\n",
        "  * D - > Completou a 8ª série/9º ano do Ensino Fundamental, mas não completou o Ensino Médio.\n",
        "  * E - > Completou o Ensino Médio, mas não completou a Faculdade.\n",
        "  * F - > Completou a Faculdade, mas não completou a Pós-graduação.\n",
        "  * G - > Completou a Pós-graduação.\n"
      ],
      "metadata": {
        "id": "Ye9A1SB-sLEV"
      }
    },
    {
      "cell_type": "code",
      "metadata": {
        "colab": {
          "base_uri": "https://localhost:8080/"
        },
        "id": "YeFRFKvkQ2f4",
        "outputId": "4cc4dd37-ee32-4f90-e24b-674b9fc539e4"
      },
      "source": [
        "np.unique(df1['Q001'])"
      ],
      "execution_count": null,
      "outputs": [
        {
          "output_type": "execute_result",
          "data": {
            "text/plain": [
              "array(['A', 'B', 'C', 'D', 'E', 'F', 'G'], dtype=object)"
            ]
          },
          "metadata": {},
          "execution_count": 27
        }
      ]
    },
    {
      "cell_type": "code",
      "metadata": {
        "id": "XJO28aQbQ_Op"
      },
      "source": [
        "df1['Q001'] = df1['Q001'].map({'A': 0, 'B': 1,'C':2, 'D':3.5,'E':4,\n",
        "                              'F':5.5,'G':6})\n",
        "\n",
        "df1['Q002'] = df1['Q002'].map({'A': 0, 'B': 1,'C':2, 'D':3.5,'E':4,\n",
        "                              'F':5.5,'G':6})"
      ],
      "execution_count": null,
      "outputs": []
    },
    {
      "cell_type": "code",
      "metadata": {
        "colab": {
          "base_uri": "https://localhost:8080/",
          "height": 226
        },
        "id": "CG1_HH4_RzPB",
        "outputId": "29c936ea-8d67-4d08-d191-a66b936b51df"
      },
      "source": [
        "df1.head()"
      ],
      "execution_count": null,
      "outputs": [
        {
          "output_type": "execute_result",
          "data": {
            "text/html": [
              "<div>\n",
              "<style scoped>\n",
              "    .dataframe tbody tr th:only-of-type {\n",
              "        vertical-align: middle;\n",
              "    }\n",
              "\n",
              "    .dataframe tbody tr th {\n",
              "        vertical-align: top;\n",
              "    }\n",
              "\n",
              "    .dataframe thead th {\n",
              "        text-align: right;\n",
              "    }\n",
              "</style>\n",
              "<table border=\"1\" class=\"dataframe\">\n",
              "  <thead>\n",
              "    <tr style=\"text-align: right;\">\n",
              "      <th></th>\n",
              "      <th>TP_SEXO</th>\n",
              "      <th>TP_COR_RACA</th>\n",
              "      <th>CO_ESCOLA</th>\n",
              "      <th>NO_MUNICIPIO_ESC</th>\n",
              "      <th>CO_UF_ESC</th>\n",
              "      <th>SG_UF_ESC</th>\n",
              "      <th>TP_DEPENDENCIA_ADM_ESC</th>\n",
              "      <th>NU_NOTA_CN</th>\n",
              "      <th>NU_NOTA_CH</th>\n",
              "      <th>NU_NOTA_LC</th>\n",
              "      <th>NU_NOTA_MT</th>\n",
              "      <th>NU_NOTA_REDACAO</th>\n",
              "      <th>Q001</th>\n",
              "      <th>Q002</th>\n",
              "      <th>Q005</th>\n",
              "      <th>Q006</th>\n",
              "      <th>Q024</th>\n",
              "      <th>Q025</th>\n",
              "    </tr>\n",
              "  </thead>\n",
              "  <tbody>\n",
              "    <tr>\n",
              "      <th>26</th>\n",
              "      <td>F</td>\n",
              "      <td>1</td>\n",
              "      <td>41026039.0</td>\n",
              "      <td>Apucarana</td>\n",
              "      <td>41.0</td>\n",
              "      <td>PR</td>\n",
              "      <td>4.0</td>\n",
              "      <td>618.2</td>\n",
              "      <td>744.7</td>\n",
              "      <td>636.3</td>\n",
              "      <td>713.7</td>\n",
              "      <td>900.0</td>\n",
              "      <td>4.0</td>\n",
              "      <td>4.0</td>\n",
              "      <td>2</td>\n",
              "      <td>2245</td>\n",
              "      <td>B</td>\n",
              "      <td>B</td>\n",
              "    </tr>\n",
              "    <tr>\n",
              "      <th>28</th>\n",
              "      <td>F</td>\n",
              "      <td>1</td>\n",
              "      <td>43013945.0</td>\n",
              "      <td>Alvorada</td>\n",
              "      <td>43.0</td>\n",
              "      <td>RS</td>\n",
              "      <td>2.0</td>\n",
              "      <td>430.4</td>\n",
              "      <td>466.8</td>\n",
              "      <td>515.9</td>\n",
              "      <td>394.1</td>\n",
              "      <td>580.0</td>\n",
              "      <td>4.0</td>\n",
              "      <td>1.0</td>\n",
              "      <td>3</td>\n",
              "      <td>0</td>\n",
              "      <td>B</td>\n",
              "      <td>A</td>\n",
              "    </tr>\n",
              "    <tr>\n",
              "      <th>31</th>\n",
              "      <td>F</td>\n",
              "      <td>0</td>\n",
              "      <td>35006713.0</td>\n",
              "      <td>Mogi das Cruzes</td>\n",
              "      <td>35.0</td>\n",
              "      <td>SP</td>\n",
              "      <td>2.0</td>\n",
              "      <td>371.8</td>\n",
              "      <td>501.4</td>\n",
              "      <td>518.6</td>\n",
              "      <td>442.0</td>\n",
              "      <td>660.0</td>\n",
              "      <td>4.0</td>\n",
              "      <td>5.5</td>\n",
              "      <td>3</td>\n",
              "      <td>499</td>\n",
              "      <td>A</td>\n",
              "      <td>B</td>\n",
              "    </tr>\n",
              "    <tr>\n",
              "      <th>34</th>\n",
              "      <td>M</td>\n",
              "      <td>0</td>\n",
              "      <td>29398673.0</td>\n",
              "      <td>Lauro de Freitas</td>\n",
              "      <td>29.0</td>\n",
              "      <td>BA</td>\n",
              "      <td>2.0</td>\n",
              "      <td>567.3</td>\n",
              "      <td>584.1</td>\n",
              "      <td>595.8</td>\n",
              "      <td>704.5</td>\n",
              "      <td>620.0</td>\n",
              "      <td>4.0</td>\n",
              "      <td>2.0</td>\n",
              "      <td>2</td>\n",
              "      <td>499</td>\n",
              "      <td>A</td>\n",
              "      <td>B</td>\n",
              "    </tr>\n",
              "    <tr>\n",
              "      <th>53</th>\n",
              "      <td>M</td>\n",
              "      <td>0</td>\n",
              "      <td>25099159.0</td>\n",
              "      <td>Santa Rita</td>\n",
              "      <td>25.0</td>\n",
              "      <td>PB</td>\n",
              "      <td>2.0</td>\n",
              "      <td>373.2</td>\n",
              "      <td>409.6</td>\n",
              "      <td>469.5</td>\n",
              "      <td>379.1</td>\n",
              "      <td>480.0</td>\n",
              "      <td>3.5</td>\n",
              "      <td>4.0</td>\n",
              "      <td>4</td>\n",
              "      <td>1247</td>\n",
              "      <td>A</td>\n",
              "      <td>B</td>\n",
              "    </tr>\n",
              "  </tbody>\n",
              "</table>\n",
              "</div>"
            ],
            "text/plain": [
              "   TP_SEXO  TP_COR_RACA   CO_ESCOLA  NO_MUNICIPIO_ESC  ...  Q005  Q006  Q024  Q025\n",
              "26       F            1  41026039.0         Apucarana  ...     2  2245     B     B\n",
              "28       F            1  43013945.0          Alvorada  ...     3     0     B     A\n",
              "31       F            0  35006713.0   Mogi das Cruzes  ...     3   499     A     B\n",
              "34       M            0  29398673.0  Lauro de Freitas  ...     2   499     A     B\n",
              "53       M            0  25099159.0        Santa Rita  ...     4  1247     A     B\n",
              "\n",
              "[5 rows x 18 columns]"
            ]
          },
          "metadata": {},
          "execution_count": 29
        }
      ]
    },
    {
      "cell_type": "markdown",
      "metadata": {
        "id": "uq7bQ5c5Tcv3"
      },
      "source": [
        "### <a name=\"secao_4.4\"> 4.4  Computador e internet.\n",
        "\n",
        "\n",
        "\n"
      ]
    },
    {
      "cell_type": "markdown",
      "source": [
        "* Legenda do Q025:\n",
        "\n",
        "  * A - > Não\n",
        "  * B - > Sim\n",
        "\n",
        "* Legenda do Q024:\n",
        "\n",
        "  * A - > Não.\n",
        "  * B - > Sim, um.\n",
        "  * C - > Sim, dois.\n",
        "  * D - > Sim, três.\n",
        "  * E - > Sim, quatro ou mais."
      ],
      "metadata": {
        "id": "fXv4glAaujkb"
      }
    },
    {
      "cell_type": "code",
      "metadata": {
        "colab": {
          "base_uri": "https://localhost:8080/"
        },
        "id": "GpZ-bcE0R0sp",
        "outputId": "bd2f25f2-5a0d-473b-d3a5-d0f3da3a0d25"
      },
      "source": [
        "# Vendo se todas as pessoas que tem computador tem acesso a internet\n",
        "print('Número de pessoas que tem acesso a internet e ao computador:',np.sum((df1['Q025'] == 'B') & (df1['Q024'] != 'A')))\n",
        "# \n",
        "print('Número de pessoas que tem acesso a internet e ao computador:',np.sum((df1['Q025'] != 'A')))"
      ],
      "execution_count": null,
      "outputs": [
        {
          "output_type": "stream",
          "name": "stdout",
          "text": [
            "Número de pessoas que tem acesso a internet e ao computador: 428761\n",
            "Número de pessoas que tem acesso a internet e ao computador: 645439\n"
          ]
        }
      ]
    },
    {
      "cell_type": "markdown",
      "metadata": {
        "id": "C67nkaLPUWVz"
      },
      "source": [
        "* Sera criado uma variável onde vai ter as seguintes classes:\n",
        "\n",
        "  * 0 -> A pesssoa não tem internet nem computador\n",
        "  * 1 -> A pessoa so tem computador\n",
        "  * 2 -> A pessoas tem computador e internet\n",
        "\n",
        "* Essa nova classe será chamada de Q026"
      ]
    },
    {
      "cell_type": "code",
      "metadata": {
        "colab": {
          "base_uri": "https://localhost:8080/"
        },
        "id": "LuPYnYSZVIxu",
        "outputId": "7e166e9d-5430-43af-91e1-33c8c14bc326"
      },
      "source": [
        "np.unique(df1['Q024'])"
      ],
      "execution_count": null,
      "outputs": [
        {
          "output_type": "execute_result",
          "data": {
            "text/plain": [
              "array(['A', 'B', 'C', 'D', 'E'], dtype=object)"
            ]
          },
          "metadata": {},
          "execution_count": 66
        }
      ]
    },
    {
      "cell_type": "code",
      "metadata": {
        "id": "3RofZBIjT87B"
      },
      "source": [
        "df1['Q024'] = df1['Q024'].map({'A': 0, 'B': 1,'C':1, 'D':1,'E':1})\n",
        "df1['Q025'] = df1['Q025'].map({'A': 0, 'B': 1})"
      ],
      "execution_count": null,
      "outputs": []
    },
    {
      "cell_type": "code",
      "metadata": {
        "id": "Gn2fRMDuYdhs"
      },
      "source": [
        "df1['Q026'] = df1['Q024'] + df1['Q025']"
      ],
      "execution_count": null,
      "outputs": []
    },
    {
      "cell_type": "code",
      "metadata": {
        "id": "xSkK7dztXYoO"
      },
      "source": [
        "col = ['Q024','Q025']\n",
        "df1.drop(columns=col,inplace = True)"
      ],
      "execution_count": null,
      "outputs": []
    },
    {
      "cell_type": "markdown",
      "metadata": {
        "id": "zyb0Pbr3tMV7"
      },
      "source": [
        "### <a name=\"secao_4.5\"> 4.5  Nota média.\n",
        "\n",
        "\n",
        "* As análises serão avaliadas de acordo com a nota media"
      ]
    },
    {
      "cell_type": "code",
      "metadata": {
        "id": "H17P_BXSVXED"
      },
      "source": [
        "col = ['NU_NOTA_CN','NU_NOTA_CH','NU_NOTA_LC','NU_NOTA_MT','NU_NOTA_REDACAO']"
      ],
      "execution_count": null,
      "outputs": []
    },
    {
      "cell_type": "code",
      "metadata": {
        "colab": {
          "base_uri": "https://localhost:8080/"
        },
        "id": "HtkII1tM_9ju",
        "outputId": "d691031d-57bd-4266-a102-b6ebecdf6548"
      },
      "source": [
        "col"
      ],
      "execution_count": null,
      "outputs": [
        {
          "output_type": "execute_result",
          "data": {
            "text/plain": [
              "['NU_NOTA_CN', 'NU_NOTA_CH', 'NU_NOTA_LC', 'NU_NOTA_MT', 'NU_NOTA_REDACAO']"
            ]
          },
          "metadata": {},
          "execution_count": 31
        }
      ]
    },
    {
      "cell_type": "code",
      "metadata": {
        "id": "5wDxUKNuXRpp"
      },
      "source": [
        "df1['Nota_media'] = np.mean(df1[col],axis = 1) # dados de \n",
        "\n",
        "# para impedir o vazamento de dados as notas das provas seram excluidas\n",
        "\n"
      ],
      "execution_count": null,
      "outputs": []
    },
    {
      "cell_type": "code",
      "metadata": {
        "colab": {
          "base_uri": "https://localhost:8080/",
          "height": 226
        },
        "id": "y7Wk8rq_XGnT",
        "outputId": "edcc2805-4021-4098-a4a5-edd6821b22da"
      },
      "source": [
        "df1.head()"
      ],
      "execution_count": null,
      "outputs": [
        {
          "output_type": "execute_result",
          "data": {
            "text/html": [
              "<div>\n",
              "<style scoped>\n",
              "    .dataframe tbody tr th:only-of-type {\n",
              "        vertical-align: middle;\n",
              "    }\n",
              "\n",
              "    .dataframe tbody tr th {\n",
              "        vertical-align: top;\n",
              "    }\n",
              "\n",
              "    .dataframe thead th {\n",
              "        text-align: right;\n",
              "    }\n",
              "</style>\n",
              "<table border=\"1\" class=\"dataframe\">\n",
              "  <thead>\n",
              "    <tr style=\"text-align: right;\">\n",
              "      <th></th>\n",
              "      <th>TP_SEXO</th>\n",
              "      <th>TP_COR_RACA</th>\n",
              "      <th>CO_ESCOLA</th>\n",
              "      <th>NO_MUNICIPIO_ESC</th>\n",
              "      <th>CO_UF_ESC</th>\n",
              "      <th>SG_UF_ESC</th>\n",
              "      <th>TP_DEPENDENCIA_ADM_ESC</th>\n",
              "      <th>NU_NOTA_CN</th>\n",
              "      <th>NU_NOTA_CH</th>\n",
              "      <th>NU_NOTA_LC</th>\n",
              "      <th>NU_NOTA_MT</th>\n",
              "      <th>NU_NOTA_REDACAO</th>\n",
              "      <th>Q001</th>\n",
              "      <th>Q002</th>\n",
              "      <th>Q005</th>\n",
              "      <th>Q006</th>\n",
              "      <th>Q024</th>\n",
              "      <th>Q025</th>\n",
              "      <th>Nota_media</th>\n",
              "    </tr>\n",
              "  </thead>\n",
              "  <tbody>\n",
              "    <tr>\n",
              "      <th>26</th>\n",
              "      <td>F</td>\n",
              "      <td>1</td>\n",
              "      <td>41026039.0</td>\n",
              "      <td>Apucarana</td>\n",
              "      <td>41.0</td>\n",
              "      <td>PR</td>\n",
              "      <td>4.0</td>\n",
              "      <td>618.2</td>\n",
              "      <td>744.7</td>\n",
              "      <td>636.3</td>\n",
              "      <td>713.7</td>\n",
              "      <td>900.0</td>\n",
              "      <td>4.0</td>\n",
              "      <td>4.0</td>\n",
              "      <td>2</td>\n",
              "      <td>2245</td>\n",
              "      <td>B</td>\n",
              "      <td>B</td>\n",
              "      <td>722.58</td>\n",
              "    </tr>\n",
              "    <tr>\n",
              "      <th>28</th>\n",
              "      <td>F</td>\n",
              "      <td>1</td>\n",
              "      <td>43013945.0</td>\n",
              "      <td>Alvorada</td>\n",
              "      <td>43.0</td>\n",
              "      <td>RS</td>\n",
              "      <td>2.0</td>\n",
              "      <td>430.4</td>\n",
              "      <td>466.8</td>\n",
              "      <td>515.9</td>\n",
              "      <td>394.1</td>\n",
              "      <td>580.0</td>\n",
              "      <td>4.0</td>\n",
              "      <td>1.0</td>\n",
              "      <td>3</td>\n",
              "      <td>0</td>\n",
              "      <td>B</td>\n",
              "      <td>A</td>\n",
              "      <td>477.44</td>\n",
              "    </tr>\n",
              "    <tr>\n",
              "      <th>31</th>\n",
              "      <td>F</td>\n",
              "      <td>0</td>\n",
              "      <td>35006713.0</td>\n",
              "      <td>Mogi das Cruzes</td>\n",
              "      <td>35.0</td>\n",
              "      <td>SP</td>\n",
              "      <td>2.0</td>\n",
              "      <td>371.8</td>\n",
              "      <td>501.4</td>\n",
              "      <td>518.6</td>\n",
              "      <td>442.0</td>\n",
              "      <td>660.0</td>\n",
              "      <td>4.0</td>\n",
              "      <td>5.5</td>\n",
              "      <td>3</td>\n",
              "      <td>499</td>\n",
              "      <td>A</td>\n",
              "      <td>B</td>\n",
              "      <td>498.76</td>\n",
              "    </tr>\n",
              "    <tr>\n",
              "      <th>34</th>\n",
              "      <td>M</td>\n",
              "      <td>0</td>\n",
              "      <td>29398673.0</td>\n",
              "      <td>Lauro de Freitas</td>\n",
              "      <td>29.0</td>\n",
              "      <td>BA</td>\n",
              "      <td>2.0</td>\n",
              "      <td>567.3</td>\n",
              "      <td>584.1</td>\n",
              "      <td>595.8</td>\n",
              "      <td>704.5</td>\n",
              "      <td>620.0</td>\n",
              "      <td>4.0</td>\n",
              "      <td>2.0</td>\n",
              "      <td>2</td>\n",
              "      <td>499</td>\n",
              "      <td>A</td>\n",
              "      <td>B</td>\n",
              "      <td>614.34</td>\n",
              "    </tr>\n",
              "    <tr>\n",
              "      <th>53</th>\n",
              "      <td>M</td>\n",
              "      <td>0</td>\n",
              "      <td>25099159.0</td>\n",
              "      <td>Santa Rita</td>\n",
              "      <td>25.0</td>\n",
              "      <td>PB</td>\n",
              "      <td>2.0</td>\n",
              "      <td>373.2</td>\n",
              "      <td>409.6</td>\n",
              "      <td>469.5</td>\n",
              "      <td>379.1</td>\n",
              "      <td>480.0</td>\n",
              "      <td>3.5</td>\n",
              "      <td>4.0</td>\n",
              "      <td>4</td>\n",
              "      <td>1247</td>\n",
              "      <td>A</td>\n",
              "      <td>B</td>\n",
              "      <td>422.28</td>\n",
              "    </tr>\n",
              "  </tbody>\n",
              "</table>\n",
              "</div>"
            ],
            "text/plain": [
              "   TP_SEXO  TP_COR_RACA   CO_ESCOLA  ... Q024  Q025 Nota_media\n",
              "26       F            1  41026039.0  ...    B     B     722.58\n",
              "28       F            1  43013945.0  ...    B     A     477.44\n",
              "31       F            0  35006713.0  ...    A     B     498.76\n",
              "34       M            0  29398673.0  ...    A     B     614.34\n",
              "53       M            0  25099159.0  ...    A     B     422.28\n",
              "\n",
              "[5 rows x 19 columns]"
            ]
          },
          "metadata": {},
          "execution_count": 33
        }
      ]
    },
    {
      "cell_type": "markdown",
      "metadata": {
        "id": "51Ef-TcU75gD"
      },
      "source": [
        "\n",
        "# <a name=\"secao_5\"> 5  Salvando os novos dados."
      ]
    },
    {
      "cell_type": "code",
      "metadata": {
        "id": "FZEW42pE8fGt"
      },
      "source": [
        ""
      ],
      "execution_count": null,
      "outputs": []
    },
    {
      "cell_type": "code",
      "metadata": {
        "id": "cmsTkdcSVlVI"
      },
      "source": [
        "df1.to_csv('/content/drive/My Drive/desafio semantix/dados1.csv',sep=';' ,encoding='iso-8859-1', index = False)"
      ],
      "execution_count": null,
      "outputs": []
    },
    {
      "cell_type": "code",
      "metadata": {
        "id": "CnJOil13Vpz1"
      },
      "source": [
        ""
      ],
      "execution_count": null,
      "outputs": []
    }
  ]
}